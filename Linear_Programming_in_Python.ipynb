{
  "nbformat": 4,
  "nbformat_minor": 0,
  "metadata": {
    "colab": {
      "name": "Linear Programming in Python",
      "provenance": []
    },
    "kernelspec": {
      "name": "python3",
      "display_name": "Python 3"
    }
  },
  "cells": [
    {
      "cell_type": "code",
      "metadata": {
        "id": "sWDYDsxKlF5d",
        "colab_type": "code",
        "colab": {
          "base_uri": "https://localhost:8080/",
          "height": 51
        },
        "outputId": "df6aa49a-95bb-4a3b-a6f6-f2e0438e48f1"
      },
      "source": [
        "!pip install pulp"
      ],
      "execution_count": 33,
      "outputs": [
        {
          "output_type": "stream",
          "text": [
            "Requirement already satisfied: pulp in /usr/local/lib/python3.6/dist-packages (2.1)\n",
            "Requirement already satisfied: pyparsing>=2.0.1 in /usr/local/lib/python3.6/dist-packages (from pulp) (2.4.7)\n"
          ],
          "name": "stdout"
        }
      ]
    },
    {
      "cell_type": "code",
      "metadata": {
        "id": "0aw0hiFmlJt9",
        "colab_type": "code",
        "colab": {
          "base_uri": "https://localhost:8080/",
          "height": 102
        },
        "outputId": "bd82ad6b-4a16-4277-b7a1-8646a2c7811d"
      },
      "source": [
        "##importing the libraries\n",
        "from pulp import *\n",
        "import numpy as np\n",
        "import pandas as pd\n",
        "import re \n",
        "import matplotlib.pyplot as plt\n",
        "print('\\n')\n",
        "print('Libraries imported')\n",
        "print('\\n')"
      ],
      "execution_count": 34,
      "outputs": [
        {
          "output_type": "stream",
          "text": [
            "\n",
            "\n",
            "Libraries imported\n",
            "\n",
            "\n"
          ],
          "name": "stdout"
        }
      ]
    },
    {
      "cell_type": "code",
      "metadata": {
        "id": "GxLZCl93lYnq",
        "colab_type": "code",
        "colab": {
          "base_uri": "https://localhost:8080/",
          "height": 204
        },
        "outputId": "0a5c93ae-15af-4c18-c53f-df536c5efa53"
      },
      "source": [
        "##importing the dataset\n",
        "data = pd.read_excel(\"airplane movement.xlsx\")\n",
        "data[:5]"
      ],
      "execution_count": 35,
      "outputs": [
        {
          "output_type": "execute_result",
          "data": {
            "text/html": [
              "<div>\n",
              "<style scoped>\n",
              "    .dataframe tbody tr th:only-of-type {\n",
              "        vertical-align: middle;\n",
              "    }\n",
              "\n",
              "    .dataframe tbody tr th {\n",
              "        vertical-align: top;\n",
              "    }\n",
              "\n",
              "    .dataframe thead th {\n",
              "        text-align: right;\n",
              "    }\n",
              "</style>\n",
              "<table border=\"1\" class=\"dataframe\">\n",
              "  <thead>\n",
              "    <tr style=\"text-align: right;\">\n",
              "      <th></th>\n",
              "      <th>Year</th>\n",
              "      <th>Aircraft movement</th>\n",
              "      <th>Passengers</th>\n",
              "      <th>Air cargo</th>\n",
              "      <th>Air Mail</th>\n",
              "    </tr>\n",
              "  </thead>\n",
              "  <tbody>\n",
              "    <tr>\n",
              "      <th>0</th>\n",
              "      <td>2017</td>\n",
              "      <td>438578</td>\n",
              "      <td>43234161</td>\n",
              "      <td>826227</td>\n",
              "      <td>55623</td>\n",
              "    </tr>\n",
              "    <tr>\n",
              "      <th>1</th>\n",
              "      <td>2016</td>\n",
              "      <td>435907</td>\n",
              "      <td>40563293</td>\n",
              "      <td>746771</td>\n",
              "      <td>45798</td>\n",
              "    </tr>\n",
              "    <tr>\n",
              "      <th>2</th>\n",
              "      <td>2015</td>\n",
              "      <td>413878</td>\n",
              "      <td>37493540</td>\n",
              "      <td>705214</td>\n",
              "      <td>49029</td>\n",
              "    </tr>\n",
              "    <tr>\n",
              "      <th>3</th>\n",
              "      <td>2014</td>\n",
              "      <td>397361</td>\n",
              "      <td>35610687</td>\n",
              "      <td>666840</td>\n",
              "      <td>36380</td>\n",
              "    </tr>\n",
              "    <tr>\n",
              "      <th>4</th>\n",
              "      <td>2013</td>\n",
              "      <td>413742</td>\n",
              "      <td>35016236</td>\n",
              "      <td>663155</td>\n",
              "      <td>54677</td>\n",
              "    </tr>\n",
              "  </tbody>\n",
              "</table>\n",
              "</div>"
            ],
            "text/plain": [
              "   Year  Aircraft movement  Passengers  Air cargo  Air Mail\n",
              "0  2017             438578    43234161     826227     55623\n",
              "1  2016             435907    40563293     746771     45798\n",
              "2  2015             413878    37493540     705214     49029\n",
              "3  2014             397361    35610687     666840     36380\n",
              "4  2013             413742    35016236     663155     54677"
            ]
          },
          "metadata": {
            "tags": []
          },
          "execution_count": 35
        }
      ]
    },
    {
      "cell_type": "code",
      "metadata": {
        "id": "FLuumWUulgug",
        "colab_type": "code",
        "colab": {
          "base_uri": "https://localhost:8080/",
          "height": 119
        },
        "outputId": "66bbfd8d-64b6-4586-82ae-8c30fbccc909"
      },
      "source": [
        "data.dtypes"
      ],
      "execution_count": 36,
      "outputs": [
        {
          "output_type": "execute_result",
          "data": {
            "text/plain": [
              "Year                 int64\n",
              "Aircraft movement    int64\n",
              "Passengers           int64\n",
              "Air cargo            int64\n",
              "Air Mail             int64\n",
              "dtype: object"
            ]
          },
          "metadata": {
            "tags": []
          },
          "execution_count": 36
        }
      ]
    },
    {
      "cell_type": "code",
      "metadata": {
        "id": "CnH8Iue-lqAW",
        "colab_type": "code",
        "colab": {
          "base_uri": "https://localhost:8080/",
          "height": 315
        },
        "outputId": "cad62b78-58ad-42b6-b700-ab28095fecc5"
      },
      "source": [
        "fig, axs = plt.subplots(1,2)\n",
        "my_plot = data[['Aircraft movement', 'Passengers']].plot(kind='bar', title=\"Aircraft movement by passengers\", ax=axs[0])\n",
        "my_plot = data[['Aircraft movement', 'Air cargo']].plot(kind='bar', title=\"Aircraft movement by cargo\", ax=axs[1])\n",
        "my_plot.set_xlabel(\"Aircraft Movement\")"
      ],
      "execution_count": 37,
      "outputs": [
        {
          "output_type": "execute_result",
          "data": {
            "text/plain": [
              "Text(0.5, 0, 'Aircraft Movement')"
            ]
          },
          "metadata": {
            "tags": []
          },
          "execution_count": 37
        },
        {
          "output_type": "display_data",
          "data": {
            "image/png": "[encoded data removed]",
            "text/plain": [
              "<Figure size 432x288 with 2 Axes>"
            ]
          },
          "metadata": {
            "tags": [],
            "needs_background": "light"
          }
        }
      ]
    },
    {
      "cell_type": "code",
      "metadata": {
        "id": "yw_kdkPIpDCJ",
        "colab_type": "code",
        "colab": {}
      },
      "source": [
        "LpSolverDefault.msg = 1"
      ],
      "execution_count": 0,
      "outputs": []
    },
    {
      "cell_type": "code",
      "metadata": {
        "id": "2HWnNnYBolwh",
        "colab_type": "code",
        "colab": {}
      },
      "source": [
        "# create the LP object, set up as a minimization problem --> since we want to minimize the costs \n",
        "prob = pulp.LpProblem('AircraftMovement', LpMinimize)"
      ],
      "execution_count": 0,
      "outputs": []
    },
    {
      "cell_type": "code",
      "metadata": {
        "id": "AlYZ0crmpEaK",
        "colab_type": "code",
        "colab": {
          "base_uri": "https://localhost:8080/",
          "height": 34
        },
        "outputId": "3af748c8-2318-4ff3-c08a-ff6f21db1392"
      },
      "source": [
        "decision_variables = []\n",
        "for rownum, row in data.iterrows():\n",
        "\tvariable = str('x' + str(rownum))\n",
        "\tvariable = pulp.LpVariable(str(variable), lowBound = 0, upBound = 1, cat= 'Integer') #make variables binary\n",
        "\tdecision_variables.append(variable)\n",
        "\n",
        "print (\"Total number of decision_variables: \" + str(len(decision_variables)))"
      ],
      "execution_count": 40,
      "outputs": [
        {
          "output_type": "stream",
          "text": [
            "Total number of decision_variables: 15\n"
          ],
          "name": "stdout"
        }
      ]
    },
    {
      "cell_type": "code",
      "metadata": {
        "id": "mm6ACvt6ptUS",
        "colab_type": "code",
        "colab": {
          "base_uri": "https://localhost:8080/",
          "height": 54
        },
        "outputId": "2658a748-906c-4c0b-ba03-056cee4bc487"
      },
      "source": [
        "total_cost = \"\"\n",
        "for rownum, row in data.iterrows():\n",
        "\tfor i, schedule in enumerate(decision_variables):\n",
        "\t\tif rownum == i:\n",
        "\t\t\tformula = row['Aircraft movement']*schedule\n",
        "\t\t\ttotal_cost += formula\n",
        "\n",
        "prob += total_cost\n",
        "print (\"Optimization function: \" + str(total_cost))"
      ],
      "execution_count": 41,
      "outputs": [
        {
          "output_type": "stream",
          "text": [
            "Optimization function: 438578*x0 + 435907*x1 + 435930*x10 + 445258*x11 + 436244*x12 + 437446*x13 + 406879*x14 + 413878*x2 + 397361*x3 + 413742*x4 + 414127*x5 + 410024*x6 + 409320*x7 + 411821*x8 + 434050*x9\n"
          ],
          "name": "stdout"
        }
      ]
    },
    {
      "cell_type": "code",
      "metadata": {
        "id": "D56dsbFup2Ls",
        "colab_type": "code",
        "colab": {}
      },
      "source": [
        "aval_vacation_days = 10\n",
        "total_vacation_days = \"\"\n",
        "for rownum, row in data.iterrows():\n",
        "\tfor i, schedule in enumerate(decision_variables):\n",
        "\t\tif rownum == i:\n",
        "\t\t\tformula = row['Passengers']*schedule\n",
        "\t\t\ttotal_vacation_days += formula\n",
        "\n",
        "prob += (total_vacation_days == aval_vacation_days)"
      ],
      "execution_count": 0,
      "outputs": []
    },
    {
      "cell_type": "code",
      "metadata": {
        "id": "FEFEBngUp-YY",
        "colab_type": "code",
        "colab": {
          "base_uri": "https://localhost:8080/",
          "height": 459
        },
        "outputId": "e1264d89-9c8e-4f13-8a0b-a64e35fb4e90"
      },
      "source": [
        "print (prob)\n",
        "prob.writeLP(\"GoingOnVacation.lp\" )"
      ],
      "execution_count": 43,
      "outputs": [
        {
          "output_type": "stream",
          "text": [
            "AircraftMovement:\n",
            "MINIMIZE\n",
            "438578*x0 + 435907*x1 + 435930*x10 + 445258*x11 + 436244*x12 + 437446*x13 + 406879*x14 + 413878*x2 + 397361*x3 + 413742*x4 + 414127*x5 + 410024*x6 + 409320*x7 + 411821*x8 + 434050*x9 + 0\n",
            "SUBJECT TO\n",
            "_C1: 43234161 x0 + 40563293 x1 + 36367210 x10 + 35634708 x11 + 33079244 x12\n",
            " + 31893372 x13 + 29450514 x14 + 37493540 x2 + 35610687 x3 + 35016236 x4\n",
            " + 33984027 x5 + 33697492 x6 + 33194190 x7 + 33360123 x8 + 35360736 x9 = 10\n",
            "\n",
            "VARIABLES\n",
            "0 <= x0 <= 1 Integer\n",
            "0 <= x1 <= 1 Integer\n",
            "0 <= x10 <= 1 Integer\n",
            "0 <= x11 <= 1 Integer\n",
            "0 <= x12 <= 1 Integer\n",
            "0 <= x13 <= 1 Integer\n",
            "0 <= x14 <= 1 Integer\n",
            "0 <= x2 <= 1 Integer\n",
            "0 <= x3 <= 1 Integer\n",
            "0 <= x4 <= 1 Integer\n",
            "0 <= x5 <= 1 Integer\n",
            "0 <= x6 <= 1 Integer\n",
            "0 <= x7 <= 1 Integer\n",
            "0 <= x8 <= 1 Integer\n",
            "0 <= x9 <= 1 Integer\n",
            "\n"
          ],
          "name": "stdout"
        },
        {
          "output_type": "execute_result",
          "data": {
            "text/plain": [
              "[x0, x1, x10, x11, x12, x13, x14, x2, x3, x4, x5, x6, x7, x8, x9]"
            ]
          },
          "metadata": {
            "tags": []
          },
          "execution_count": 43
        }
      ]
    },
    {
      "cell_type": "code",
      "metadata": {
        "id": "wtTKoM7SqHkx",
        "colab_type": "code",
        "colab": {
          "base_uri": "https://localhost:8080/",
          "height": 323
        },
        "outputId": "2f5db7ca-3c65-4629-d219-356002c61772"
      },
      "source": [
        "optimization_result = prob.solve()\n",
        "\n",
        "optimization_result == LpStatusOptimal\n",
        "print(\"Status:\", LpStatus[prob.status])\n",
        "print(\"Optimal Solution to the problem: \", value(prob.objective))\n",
        "print (\"Individual decision_variables: \")\n",
        "for v in prob.variables():\n",
        "\tprint(v.name, \"=\", v.varValue)"
      ],
      "execution_count": 44,
      "outputs": [
        {
          "output_type": "stream",
          "text": [
            "Status: Infeasible\n",
            "Optimal Solution to the problem:  0.10144246861924\n",
            "Individual decision_variables: \n",
            "x0 = 2.3129858e-07\n",
            "x1 = 0.0\n",
            "x10 = 0.0\n",
            "x11 = 0.0\n",
            "x12 = 0.0\n",
            "x13 = 0.0\n",
            "x14 = 0.0\n",
            "x2 = 0.0\n",
            "x3 = 0.0\n",
            "x4 = 0.0\n",
            "x5 = 0.0\n",
            "x6 = 0.0\n",
            "x7 = 0.0\n",
            "x8 = 0.0\n",
            "x9 = 0.0\n"
          ],
          "name": "stdout"
        }
      ]
    },
    {
      "cell_type": "code",
      "metadata": {
        "id": "QfDX9hhAqMn1",
        "colab_type": "code",
        "colab": {
          "base_uri": "https://localhost:8080/",
          "height": 204
        },
        "outputId": "5303caed-d073-42dd-fd83-283f2d223258"
      },
      "source": [
        "variable_value = []\n",
        "variable_name = []\n",
        "for v in prob.variables():\n",
        "\tvariable_name.append(v.name)\n",
        "\tvariable_value.append(v.varValue)\n",
        "\n",
        "df = pd.DataFrame({'variable': variable_name, 'value': variable_value})\n",
        "for rownum, row in df.iterrows():\n",
        "\tvalue = re.findall(r'(\\d+)', row['variable'])\n",
        "\tdf.loc[rownum, 'variable'] = int(value[0])\n",
        "\n",
        "df = df.sort_index()\n",
        "\n",
        "#append results\n",
        "for rownum, row in data.iterrows():\n",
        "\tfor results_rownum, results_row in df.iterrows():\n",
        "\t\tif rownum == results_row['variable']:\n",
        "\t\t\tdata.loc[rownum, 'decision'] = results_row['value']\n",
        "            \n",
        "data[:5]"
      ],
      "execution_count": 45,
      "outputs": [
        {
          "output_type": "execute_result",
          "data": {
            "text/html": [
              "<div>\n",
              "<style scoped>\n",
              "    .dataframe tbody tr th:only-of-type {\n",
              "        vertical-align: middle;\n",
              "    }\n",
              "\n",
              "    .dataframe tbody tr th {\n",
              "        vertical-align: top;\n",
              "    }\n",
              "\n",
              "    .dataframe thead th {\n",
              "        text-align: right;\n",
              "    }\n",
              "</style>\n",
              "<table border=\"1\" class=\"dataframe\">\n",
              "  <thead>\n",
              "    <tr style=\"text-align: right;\">\n",
              "      <th></th>\n",
              "      <th>Year</th>\n",
              "      <th>Aircraft movement</th>\n",
              "      <th>Passengers</th>\n",
              "      <th>Air cargo</th>\n",
              "      <th>Air Mail</th>\n",
              "      <th>decision</th>\n",
              "    </tr>\n",
              "  </thead>\n",
              "  <tbody>\n",
              "    <tr>\n",
              "      <th>0</th>\n",
              "      <td>2017</td>\n",
              "      <td>438578</td>\n",
              "      <td>43234161</td>\n",
              "      <td>826227</td>\n",
              "      <td>55623</td>\n",
              "      <td>2.312986e-07</td>\n",
              "    </tr>\n",
              "    <tr>\n",
              "      <th>1</th>\n",
              "      <td>2016</td>\n",
              "      <td>435907</td>\n",
              "      <td>40563293</td>\n",
              "      <td>746771</td>\n",
              "      <td>45798</td>\n",
              "      <td>0.000000e+00</td>\n",
              "    </tr>\n",
              "    <tr>\n",
              "      <th>2</th>\n",
              "      <td>2015</td>\n",
              "      <td>413878</td>\n",
              "      <td>37493540</td>\n",
              "      <td>705214</td>\n",
              "      <td>49029</td>\n",
              "      <td>0.000000e+00</td>\n",
              "    </tr>\n",
              "    <tr>\n",
              "      <th>3</th>\n",
              "      <td>2014</td>\n",
              "      <td>397361</td>\n",
              "      <td>35610687</td>\n",
              "      <td>666840</td>\n",
              "      <td>36380</td>\n",
              "      <td>0.000000e+00</td>\n",
              "    </tr>\n",
              "    <tr>\n",
              "      <th>4</th>\n",
              "      <td>2013</td>\n",
              "      <td>413742</td>\n",
              "      <td>35016236</td>\n",
              "      <td>663155</td>\n",
              "      <td>54677</td>\n",
              "      <td>0.000000e+00</td>\n",
              "    </tr>\n",
              "  </tbody>\n",
              "</table>\n",
              "</div>"
            ],
            "text/plain": [
              "   Year  Aircraft movement  Passengers  Air cargo  Air Mail      decision\n",
              "0  2017             438578    43234161     826227     55623  2.312986e-07\n",
              "1  2016             435907    40563293     746771     45798  0.000000e+00\n",
              "2  2015             413878    37493540     705214     49029  0.000000e+00\n",
              "3  2014             397361    35610687     666840     36380  0.000000e+00\n",
              "4  2013             413742    35016236     663155     54677  0.000000e+00"
            ]
          },
          "metadata": {
            "tags": []
          },
          "execution_count": 45
        }
      ]
    },
    {
      "cell_type": "code",
      "metadata": {
        "id": "CZ-HfktYqitn",
        "colab_type": "code",
        "colab": {
          "base_uri": "https://localhost:8080/",
          "height": 49
        },
        "outputId": "173594d4-aade-4588-dc2d-a13143503b60"
      },
      "source": [
        "data[data['decision'] == 1]"
      ],
      "execution_count": 46,
      "outputs": [
        {
          "output_type": "execute_result",
          "data": {
            "text/html": [
              "<div>\n",
              "<style scoped>\n",
              "    .dataframe tbody tr th:only-of-type {\n",
              "        vertical-align: middle;\n",
              "    }\n",
              "\n",
              "    .dataframe tbody tr th {\n",
              "        vertical-align: top;\n",
              "    }\n",
              "\n",
              "    .dataframe thead th {\n",
              "        text-align: right;\n",
              "    }\n",
              "</style>\n",
              "<table border=\"1\" class=\"dataframe\">\n",
              "  <thead>\n",
              "    <tr style=\"text-align: right;\">\n",
              "      <th></th>\n",
              "      <th>Year</th>\n",
              "      <th>Aircraft movement</th>\n",
              "      <th>Passengers</th>\n",
              "      <th>Air cargo</th>\n",
              "      <th>Air Mail</th>\n",
              "      <th>decision</th>\n",
              "    </tr>\n",
              "  </thead>\n",
              "  <tbody>\n",
              "  </tbody>\n",
              "</table>\n",
              "</div>"
            ],
            "text/plain": [
              "Empty DataFrame\n",
              "Columns: [Year, Aircraft movement, Passengers, Air cargo, Air Mail, decision]\n",
              "Index: []"
            ]
          },
          "metadata": {
            "tags": []
          },
          "execution_count": 46
        }
      ]
    },
    {
      "cell_type": "code",
      "metadata": {
        "id": "mEhL4ggkqrJE",
        "colab_type": "code",
        "colab": {}
      },
      "source": [
        ""
      ],
      "execution_count": 0,
      "outputs": []
    }
  ]
}